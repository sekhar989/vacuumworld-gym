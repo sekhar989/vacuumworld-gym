{
 "cells": [
  {
   "cell_type": "markdown",
   "metadata": {},
   "source": [
    "## Reward System 1:  \n",
    "- action = clean, reward = 10\n",
    "- everything else, reward = 0"
   ]
  },
  {
   "cell_type": "markdown",
   "metadata": {},
   "source": [
    "![title](reward_format_01.png)"
   ]
  },
  {
   "cell_type": "markdown",
   "metadata": {},
   "source": [
    "The agent focuses only on the action clean."
   ]
  },
  {
   "cell_type": "markdown",
   "metadata": {},
   "source": [
    "## Reward System 2:  \n",
    "- agent in dirt location, action = clean, reward = 10\n",
    "- everything else, reward = -1"
   ]
  },
  {
   "cell_type": "markdown",
   "metadata": {},
   "source": [
    "![title](reward_format_02.1.png)"
   ]
  },
  {
   "cell_type": "markdown",
   "metadata": {},
   "source": [
    "Reward Function Curve:\n",
    "![title](rewards_ep_rewards.svg)"
   ]
  },
  {
   "cell_type": "markdown",
   "metadata": {},
   "source": [
    "## Reward System 3:  \n",
    "\n",
    "- agent in dirt location, action = clean, reward = 30\n",
    "- agent in dirt location, action != clean or action = idle, reward = -5\n",
    "- agent not in dirt location, action == clean or action = idle, reward = -5\n",
    "- dirt_locs > 0 and action = idle, reward = -2\n",
    "- everything else, reward = 0"
   ]
  },
  {
   "cell_type": "markdown",
   "metadata": {},
   "source": [
    "![title](reward_format_03.1.png)"
   ]
  },
  {
   "cell_type": "markdown",
   "metadata": {},
   "source": [
    "Reward Function Curve:\n",
    "![title](rewards_ep_rewards_2.1.svg)"
   ]
  },
  {
   "cell_type": "markdown",
   "metadata": {},
   "source": [
    "## Reward System 4:  \n",
    "\n",
    "- agent in dirt location, action = clean, reward = 30\n",
    "- agent in dirt location, action != clean or action = idle, reward = -5\n",
    "- agent not in dirt location, action == clean or action = idle, reward = -5\n",
    "- dirt_locs > 0 and action = idle, reward = -2\n",
    "- last 5 actions is 'turn_right' or 'turn_left', reward = -1 * int(sqrt(episode length))\n",
    "- everything else, reward = 0"
   ]
  },
  {
   "cell_type": "markdown",
   "metadata": {},
   "source": [
    "![title](reward_format_04.png)"
   ]
  },
  {
   "cell_type": "markdown",
   "metadata": {},
   "source": [
    "Reward Function Curve:\n",
    "![title](rewards_ep_rewards_3.svg)"
   ]
  },
  {
   "cell_type": "markdown",
   "metadata": {},
   "source": [
    "The agent gets fixated on turn_left and turn_right aactions even after receiving penalty."
   ]
  }
 ],
 "metadata": {
  "kernelspec": {
   "display_name": "Python 3",
   "language": "python",
   "name": "python3"
  },
  "language_info": {
   "codemirror_mode": {
    "name": "ipython",
    "version": 3
   },
   "file_extension": ".py",
   "mimetype": "text/x-python",
   "name": "python",
   "nbconvert_exporter": "python",
   "pygments_lexer": "ipython3",
   "version": "3.7.7"
  }
 },
 "nbformat": 4,
 "nbformat_minor": 4
}
