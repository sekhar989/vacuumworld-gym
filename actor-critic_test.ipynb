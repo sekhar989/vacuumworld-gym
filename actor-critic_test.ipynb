{
 "cells": [
  {
   "cell_type": "code",
   "execution_count": 1,
   "metadata": {},
   "outputs": [
    {
     "name": "stdout",
     "output_type": "stream",
     "text": [
      "<class 'vacuumworld.vw.Grid'>: size: 3, agents: 1, dirts: 6, \n",
      "location(coordinate=coord(x=1, y=0), agent=agent(name='A-1', colour='white', orientation='east'), dirt=dirt(name='D-1', colour='orange'))\n",
      "location(coordinate=coord(x=2, y=0), agent=None, dirt=dirt(name='D-3', colour='orange'))\n",
      "location(coordinate=coord(x=0, y=1), agent=None, dirt=dirt(name='D-4', colour='green'))\n",
      "location(coordinate=coord(x=1, y=1), agent=None, dirt=dirt(name='D-5', colour='green'))\n",
      "location(coordinate=coord(x=0, y=2), agent=None, dirt=dirt(name='D-2', colour='orange'))\n",
      "location(coordinate=coord(x=2, y=2), agent=None, dirt=dirt(name='D-6', colour='green'))\n",
      "GPU Available:\t True\n"
     ]
    }
   ],
   "source": [
    "\"\"\"\n",
    "Test Script\n",
    "\n",
    "\"\"\"\n",
    "import random\n",
    "import copy\n",
    "import numpy as np\n",
    "from vwgym import VacuumWorld, Vectorise, StepWrapper\n",
    "import torch.nn as nn\n",
    "import torch.optim as optim\n",
    "import torch.nn.functional as F\n",
    "from vwgym.old_actor_critic import *\n",
    "from torch.distributions import Categorical\n",
    "from vwgym.init_utils import *\n",
    "\n",
    "if torch.cuda.is_available():\n",
    "    print('GPU Available:\\t', True)\n",
    "    device = 'cuda'\n",
    "    torch.backends.cudnn.deterministic = True\n",
    "    torch.backends.cudnn.benchmark = False\n",
    "\n",
    "else:\n",
    "    device = 'cpu'"
   ]
  },
  {
   "cell_type": "code",
   "execution_count": 2,
   "metadata": {},
   "outputs": [
    {
     "name": "stdout",
     "output_type": "stream",
     "text": [
      "<class 'vacuumworld.vw.Grid'>: size: 3, agents: 1, dirts: 6, \n",
      "location(coordinate=coord(x=1, y=0), agent=agent(name='A-1', colour='white', orientation='east'), dirt=dirt(name='D-1', colour='orange'))\n",
      "location(coordinate=coord(x=2, y=0), agent=None, dirt=dirt(name='D-3', colour='orange'))\n",
      "location(coordinate=coord(x=0, y=1), agent=None, dirt=dirt(name='D-4', colour='green'))\n",
      "location(coordinate=coord(x=1, y=1), agent=None, dirt=dirt(name='D-5', colour='green'))\n",
      "location(coordinate=coord(x=0, y=2), agent=None, dirt=dirt(name='D-2', colour='orange'))\n",
      "location(coordinate=coord(x=2, y=2), agent=None, dirt=dirt(name='D-6', colour='green'))\n"
     ]
    },
    {
     "data": {
      "text/plain": [
       "<class 'vacuumworld.vw.Grid'>: size: 3, agents: 1, dirts: 6, \n",
       "location(coordinate=coord(x=1, y=0), agent=agent(name='A-1', colour='white', orientation='east'), dirt=dirt(name='D-1', colour='orange'))\n",
       "location(coordinate=coord(x=2, y=0), agent=None, dirt=dirt(name='D-3', colour='orange'))\n",
       "location(coordinate=coord(x=0, y=1), agent=None, dirt=dirt(name='D-4', colour='green'))\n",
       "location(coordinate=coord(x=1, y=1), agent=None, dirt=dirt(name='D-5', colour='green'))\n",
       "location(coordinate=coord(x=0, y=2), agent=None, dirt=dirt(name='D-2', colour='orange'))\n",
       "location(coordinate=coord(x=2, y=2), agent=None, dirt=dirt(name='D-6', colour='green'))"
      ]
     },
     "execution_count": 2,
     "metadata": {},
     "output_type": "execute_result"
    }
   ],
   "source": [
    "model_path = 'vwgym/model/actor_9190.pt'\n",
    "checkpoint = torch.load(model_path)\n",
    "\n",
    "env, input_shape = make_env(grid_size=3, num_env=1, vectorize=True)\n",
    "env = env[0]\n",
    "env.state()"
   ]
  },
  {
   "cell_type": "code",
   "execution_count": 3,
   "metadata": {},
   "outputs": [],
   "source": [
    "num_actions = env.action_space.n\n",
    "ac = torch.load(model_path)"
   ]
  },
  {
   "cell_type": "code",
   "execution_count": 4,
   "metadata": {},
   "outputs": [
    {
     "data": {
      "text/plain": [
       "Actor(\n",
       "  (fc1): Linear(in_features=22, out_features=1024, bias=True)\n",
       "  (fc2): Linear(in_features=1024, out_features=512, bias=True)\n",
       "  (actor): Linear(in_features=512, out_features=4, bias=True)\n",
       ")"
      ]
     },
     "execution_count": 4,
     "metadata": {},
     "output_type": "execute_result"
    }
   ],
   "source": [
    "ac"
   ]
  },
  {
   "cell_type": "code",
   "execution_count": 5,
   "metadata": {},
   "outputs": [],
   "source": [
    "def take_action(action_probs):\n",
    "\n",
    "#     dist = Categorical(action_probs)\n",
    "    print(action_probs)\n",
    "#     action = dist.sample()\n",
    "    action = action_probs.max(1)[1]\n",
    "    \n",
    "    return action.cpu().numpy()"
   ]
  },
  {
   "cell_type": "code",
   "execution_count": 6,
   "metadata": {
    "scrolled": true
   },
   "outputs": [
    {
     "name": "stdout",
     "output_type": "stream",
     "text": [
      "Dirts Present..:6\n",
      "tensor([[9.9368e-01, 6.2423e-03, 7.1674e-05, 6.0812e-06]], device='cuda:0')\n",
      "[0. 1. 0. 0. 0. 0. 1. 0. 0. 0. 0. 0. 0. 0. 1. 1. 1. 1. 0. 1. 0. 1.] -1 False\n",
      "tensor([[1.6380e-02, 2.1610e-02, 9.6163e-01, 3.7911e-04]], device='cuda:0')\n",
      "[1. 0. 0. 0. 0. 0. 1. 0. 0. 0. 0. 0. 0. 0. 1. 1. 1. 1. 0. 1. 0. 1.] -1 False\n",
      "tensor([[0.0647, 0.9103, 0.0236, 0.0014]], device='cuda:0')\n",
      "[1. 0. 0. 0. 0. 0. 1. 0. 0. 0. 0. 0. 0. 0. 1. 0. 1. 1. 0. 1. 0. 1.] 100 False\n",
      "tensor([[0.0075, 0.0379, 0.9527, 0.0019]], device='cuda:0')\n",
      "[0. 0. 0. 1. 0. 0. 1. 0. 0. 0. 0. 0. 0. 0. 1. 0. 1. 1. 0. 1. 0. 1.] -1 False\n",
      "tensor([[0.9573, 0.0362, 0.0055, 0.0010]], device='cuda:0')\n",
      "[0. 0. 0. 1. 0. 1. 0. 0. 0. 0. 0. 0. 0. 0. 1. 0. 1. 1. 0. 1. 0. 1.] -1 False\n",
      "tensor([[1.3329e-01, 8.6260e-01, 3.6236e-03, 4.8226e-04]], device='cuda:0')\n",
      "[0. 0. 0. 1. 0. 1. 0. 0. 0. 0. 0. 0. 0. 0. 0. 0. 1. 1. 0. 1. 0. 1.] 100 False\n",
      "tensor([[9.7183e-01, 2.7542e-02, 5.7264e-04, 5.4962e-05]], device='cuda:0')\n",
      "[0. 0. 0. 1. 1. 0. 0. 0. 0. 0. 0. 0. 0. 0. 0. 0. 1. 1. 0. 1. 0. 1.] -1 False\n",
      "tensor([[3.2086e-02, 2.2505e-03, 9.6562e-01, 4.8157e-05]], device='cuda:0')\n",
      "[0. 0. 1. 0. 1. 0. 0. 0. 0. 0. 0. 0. 0. 0. 0. 0. 1. 1. 0. 1. 0. 1.] -1 False\n",
      "tensor([[9.9547e-01, 3.4945e-03, 4.7323e-04, 5.6394e-04]], device='cuda:0')\n",
      "[0. 0. 1. 0. 0. 0. 0. 1. 0. 0. 0. 0. 0. 0. 0. 0. 1. 1. 0. 1. 0. 1.] -1 False\n",
      "tensor([[0.0461, 0.9514, 0.0010, 0.0014]], device='cuda:0')\n",
      "[0. 0. 1. 0. 0. 0. 0. 1. 0. 0. 0. 0. 0. 0. 0. 0. 0. 1. 0. 1. 0. 1.] 100 False\n",
      "tensor([[9.7831e-01, 2.1211e-02, 2.9775e-04, 1.7769e-04]], device='cuda:0')\n",
      "[0. 0. 1. 0. 0. 0. 0. 0. 0. 0. 1. 0. 0. 0. 0. 0. 0. 1. 0. 1. 0. 1.] -1 False\n",
      "tensor([[0.0390, 0.9501, 0.0080, 0.0028]], device='cuda:0')\n",
      "[0. 0. 1. 0. 0. 0. 0. 0. 0. 0. 1. 0. 0. 0. 0. 0. 0. 1. 0. 0. 0. 1.] 100 False\n",
      "tensor([[1.5212e-02, 5.2293e-02, 9.3160e-01, 8.9852e-04]], device='cuda:0')\n",
      "[0. 1. 0. 0. 0. 0. 0. 0. 0. 0. 1. 0. 0. 0. 0. 0. 0. 1. 0. 0. 0. 1.] -1 False\n",
      "tensor([[9.9060e-01, 8.9863e-03, 4.0418e-04, 5.9048e-06]], device='cuda:0')\n",
      "[0. 1. 0. 0. 0. 0. 0. 0. 0. 0. 0. 1. 0. 0. 0. 0. 0. 1. 0. 0. 0. 1.] -1 False\n",
      "tensor([[9.9794e-01, 1.6394e-03, 4.1447e-04, 9.1156e-06]], device='cuda:0')\n",
      "[0. 1. 0. 0. 0. 0. 0. 0. 0. 0. 0. 0. 1. 0. 0. 0. 0. 1. 0. 0. 0. 1.] -1 False\n",
      "tensor([[2.5646e-02, 9.0978e-01, 6.4237e-02, 3.4110e-04]], device='cuda:0')\n",
      "[0. 1. 0. 0. 0. 0. 0. 0. 0. 0. 0. 0. 1. 0. 0. 0. 0. 1. 0. 0. 0. 0.] 100 False\n",
      "tensor([[4.4408e-03, 1.6844e-02, 9.7858e-01, 1.3385e-04]], device='cuda:0')\n",
      "[1. 0. 0. 0. 0. 0. 0. 0. 0. 0. 0. 0. 1. 0. 0. 0. 0. 1. 0. 0. 0. 0.] -1 False\n",
      "tensor([[9.7299e-01, 2.6633e-02, 2.7897e-04, 9.4155e-05]], device='cuda:0')\n",
      "[1. 0. 0. 0. 0. 0. 0. 0. 0. 1. 0. 0. 0. 0. 0. 0. 0. 1. 0. 0. 0. 0.] -1 False\n",
      "tensor([[8.5670e-03, 3.4454e-03, 9.8780e-01, 1.9128e-04]], device='cuda:0')\n",
      "[0. 0. 0. 1. 0. 0. 0. 0. 0. 1. 0. 0. 0. 0. 0. 0. 0. 1. 0. 0. 0. 0.] -1 False\n",
      "tensor([[9.9496e-01, 4.0006e-03, 9.8663e-04, 5.4357e-05]], device='cuda:0')\n",
      "[0. 0. 0. 1. 0. 0. 0. 0. 1. 0. 0. 0. 0. 0. 0. 0. 0. 1. 0. 0. 0. 0.] -1 False\n",
      "tensor([[1.1485e-02, 9.8299e-01, 4.9709e-03, 5.5334e-04]], device='cuda:0')\n",
      "[0. 0. 0. 1. 0. 0. 0. 0. 1. 0. 0. 0. 0. 0. 0. 0. 0. 0. 0. 0. 0. 0.] 100 False\n",
      "tensor([[0.6995, 0.2892, 0.0067, 0.0047]], device='cuda:0')\n",
      "\n",
      "Grid Cleaned !!\n",
      "\n",
      "{'ep_rewards': 585, 'ep_len': 22, 'move': 10, 'clean': 6, 'turn_left': 6, 'turn_right': 0}\n",
      "Episode Rewards:\t 585 \n",
      " ----------------------------------------\n",
      "[0. 0. 0. 1. 0. 0. 0. 1. 0. 0. 0. 0. 0. 0. 0. 0. 0. 0. 0. 0. 0. 0.] 0 True\n"
     ]
    }
   ],
   "source": [
    "with torch.no_grad():\n",
    "    ac.eval()\n",
    "    predictions = []\n",
    "\n",
    "    x = env.reset()\n",
    "    env.rw_dirts = env.dirts\n",
    "    print(f'Dirts Present..:{env.rw_dirts}')\n",
    "        \n",
    "    x = torch.from_numpy(x).float()\n",
    "    x = x.view(1, -1).to(device)\n",
    "    \n",
    "    step = 0\n",
    "    prev_action = []\n",
    "    \n",
    "    for __ in range(5000):\n",
    "        action_probs = ac(x)\n",
    "#         print(action_probs)\n",
    "        a_t = take_action(action_probs)\n",
    "        x, reward, done, ep_info = env.step(a_t[0])\n",
    "        print(x, reward, done)\n",
    "        \n",
    "        x = torch.from_numpy(x).float()\n",
    "        x = x.view(1, -1).to(device)\n",
    "\n",
    "        predictions.append(a_t[0])\n",
    "        if done:\n",
    "            break"
   ]
  },
  {
   "cell_type": "code",
   "execution_count": 7,
   "metadata": {},
   "outputs": [],
   "source": [
    "import pandas as pd"
   ]
  },
  {
   "cell_type": "code",
   "execution_count": 8,
   "metadata": {
    "scrolled": false
   },
   "outputs": [
    {
     "data": {
      "text/html": [
       "<div>\n",
       "<style scoped>\n",
       "    .dataframe tbody tr th:only-of-type {\n",
       "        vertical-align: middle;\n",
       "    }\n",
       "\n",
       "    .dataframe tbody tr th {\n",
       "        vertical-align: top;\n",
       "    }\n",
       "\n",
       "    .dataframe thead th {\n",
       "        text-align: right;\n",
       "    }\n",
       "</style>\n",
       "<table border=\"1\" class=\"dataframe\">\n",
       "  <thead>\n",
       "    <tr style=\"text-align: right;\">\n",
       "      <th></th>\n",
       "      <th>index</th>\n",
       "      <th>action_meanings</th>\n",
       "    </tr>\n",
       "  </thead>\n",
       "  <tbody>\n",
       "    <tr>\n",
       "      <th>0</th>\n",
       "      <td>move</td>\n",
       "      <td>10</td>\n",
       "    </tr>\n",
       "    <tr>\n",
       "      <th>1</th>\n",
       "      <td>turn_left</td>\n",
       "      <td>6</td>\n",
       "    </tr>\n",
       "    <tr>\n",
       "      <th>2</th>\n",
       "      <td>clean</td>\n",
       "      <td>6</td>\n",
       "    </tr>\n",
       "  </tbody>\n",
       "</table>\n",
       "</div>"
      ],
      "text/plain": [
       "       index  action_meanings\n",
       "0       move               10\n",
       "1  turn_left                6\n",
       "2      clean                6"
      ]
     },
     "execution_count": 8,
     "metadata": {},
     "output_type": "execute_result"
    }
   ],
   "source": [
    "p = pd.DataFrame.from_dict({'actions': predictions, 'action_meanings':[env.action_meanings[i] for i in predictions]})\n",
    "p['action_meanings'].value_counts().reset_index()"
   ]
  },
  {
   "cell_type": "code",
   "execution_count": null,
   "metadata": {},
   "outputs": [],
   "source": []
  },
  {
   "cell_type": "code",
   "execution_count": null,
   "metadata": {},
   "outputs": [],
   "source": []
  }
 ],
 "metadata": {
  "kernelspec": {
   "display_name": "Python 3",
   "language": "python",
   "name": "python3"
  },
  "language_info": {
   "codemirror_mode": {
    "name": "ipython",
    "version": 3
   },
   "file_extension": ".py",
   "mimetype": "text/x-python",
   "name": "python",
   "nbconvert_exporter": "python",
   "pygments_lexer": "ipython3",
   "version": "3.7.7"
  }
 },
 "nbformat": 4,
 "nbformat_minor": 4
}
