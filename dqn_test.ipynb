{
 "cells": [
  {
   "cell_type": "code",
   "execution_count": 1,
   "metadata": {},
   "outputs": [
    {
     "name": "stdout",
     "output_type": "stream",
     "text": [
      "GPU Available:\t True\n",
      "GPU Available:\t True\n"
     ]
    }
   ],
   "source": [
    "\"\"\"\n",
    "Test Script\n",
    "\n",
    "\"\"\"\n",
    "import random\n",
    "import copy\n",
    "import numpy as np\n",
    "from vwgym import VacuumWorld, Vectorise, StepWrapper\n",
    "from vwgym.dqn import *\n",
    "from torch.distributions import Categorical\n",
    "from vwgym.init_utils import *\n",
    "\n",
    "if torch.cuda.is_available():\n",
    "    print('GPU Available:\\t', True)\n",
    "    device = 'cuda'\n",
    "    torch.backends.cudnn.deterministic = True\n",
    "    torch.backends.cudnn.benchmark = False\n",
    "\n",
    "else:\n",
    "    device = 'cpu'"
   ]
  },
  {
   "cell_type": "code",
   "execution_count": 2,
   "metadata": {},
   "outputs": [
    {
     "name": "stdout",
     "output_type": "stream",
     "text": [
      "<class 'vacuumworld.vw.Grid'>: size: 3, agents: 1, dirts: 6, \n",
      "location(coordinate=coord(x=1, y=0), agent=agent(name='A-1', colour='white', orientation='east'), dirt=dirt(name='D-1', colour='orange'))\n",
      "location(coordinate=coord(x=2, y=0), agent=None, dirt=dirt(name='D-3', colour='orange'))\n",
      "location(coordinate=coord(x=0, y=1), agent=None, dirt=dirt(name='D-4', colour='green'))\n",
      "location(coordinate=coord(x=1, y=1), agent=None, dirt=dirt(name='D-5', colour='green'))\n",
      "location(coordinate=coord(x=0, y=2), agent=None, dirt=dirt(name='D-2', colour='orange'))\n",
      "location(coordinate=coord(x=2, y=2), agent=None, dirt=dirt(name='D-6', colour='green'))\n"
     ]
    },
    {
     "data": {
      "text/plain": [
       "<class 'vacuumworld.vw.Grid'>: size: 3, agents: 1, dirts: 6, \n",
       "location(coordinate=coord(x=1, y=0), agent=agent(name='A-1', colour='white', orientation='east'), dirt=dirt(name='D-1', colour='orange'))\n",
       "location(coordinate=coord(x=2, y=0), agent=None, dirt=dirt(name='D-3', colour='orange'))\n",
       "location(coordinate=coord(x=0, y=1), agent=None, dirt=dirt(name='D-4', colour='green'))\n",
       "location(coordinate=coord(x=1, y=1), agent=None, dirt=dirt(name='D-5', colour='green'))\n",
       "location(coordinate=coord(x=0, y=2), agent=None, dirt=dirt(name='D-2', colour='orange'))\n",
       "location(coordinate=coord(x=2, y=2), agent=None, dirt=dirt(name='D-6', colour='green'))"
      ]
     },
     "execution_count": 2,
     "metadata": {},
     "output_type": "execute_result"
    }
   ],
   "source": [
    "model_path = 'vwgym/saved_model/vwgym_dqn_450_ckpt.pt'\n",
    "checkpoint = torch.load(model_path)\n",
    "\n",
    "env, input_shape = make_env(grid_size=3, num_env=1, vectorize=True)\n",
    "env = env[0]\n",
    "env.state()"
   ]
  },
  {
   "cell_type": "code",
   "execution_count": 3,
   "metadata": {},
   "outputs": [
    {
     "data": {
      "text/plain": [
       "<All keys matched successfully>"
      ]
     },
     "execution_count": 3,
     "metadata": {},
     "output_type": "execute_result"
    }
   ],
   "source": [
    "n_actions = env.action_space.n\n",
    "dq_net = dqn(input_shape, n_actions, device)\n",
    "dq_net.load_state_dict(checkpoint['model'])"
   ]
  },
  {
   "cell_type": "code",
   "execution_count": 4,
   "metadata": {},
   "outputs": [
    {
     "data": {
      "text/plain": [
       "dqn(\n",
       "  (fc1): Linear(in_features=22, out_features=1024, bias=True)\n",
       "  (fc2): Linear(in_features=1024, out_features=4, bias=True)\n",
       ")"
      ]
     },
     "execution_count": 4,
     "metadata": {},
     "output_type": "execute_result"
    }
   ],
   "source": [
    "dq_net"
   ]
  },
  {
   "cell_type": "code",
   "execution_count": 5,
   "metadata": {
    "scrolled": true
   },
   "outputs": [
    {
     "name": "stdout",
     "output_type": "stream",
     "text": [
      "Dirts Present..:6\n",
      "[0. 1. 0. 0. 0. 1. 0. 0. 0. 0. 0. 0. 0. 0. 0. 1. 1. 1. 0. 1. 0. 1.] 100 False\n",
      "[0. 1. 0. 0. 0. 0. 1. 0. 0. 0. 0. 0. 0. 0. 0. 1. 1. 1. 0. 1. 0. 1.] -1 False\n",
      "[0. 1. 0. 0. 0. 0. 1. 0. 0. 0. 0. 0. 0. 0. 0. 0. 1. 1. 0. 1. 0. 1.] 100 False\n",
      "[0. 0. 1. 0. 0. 0. 1. 0. 0. 0. 0. 0. 0. 0. 0. 0. 1. 1. 0. 1. 0. 1.] -1 False\n",
      "[0. 0. 1. 0. 0. 0. 0. 0. 0. 1. 0. 0. 0. 0. 0. 0. 1. 1. 0. 1. 0. 1.] -1 False\n",
      "[0. 0. 0. 1. 0. 0. 0. 0. 0. 1. 0. 0. 0. 0. 0. 0. 1. 1. 0. 1. 0. 1.] -1 False\n",
      "[0. 0. 0. 1. 0. 0. 0. 0. 1. 0. 0. 0. 0. 0. 0. 0. 1. 1. 0. 1. 0. 1.] -1 False\n",
      "[0. 0. 0. 1. 0. 0. 0. 0. 1. 0. 0. 0. 0. 0. 0. 0. 1. 0. 0. 1. 0. 1.] 100 False\n",
      "[0. 0. 0. 1. 0. 0. 0. 1. 0. 0. 0. 0. 0. 0. 0. 0. 1. 0. 0. 1. 0. 1.] -1 False\n",
      "[0. 0. 1. 0. 0. 0. 0. 1. 0. 0. 0. 0. 0. 0. 0. 0. 1. 0. 0. 1. 0. 1.] -1 False\n",
      "[0. 0. 1. 0. 0. 0. 0. 1. 0. 0. 0. 0. 0. 0. 0. 0. 0. 0. 0. 1. 0. 1.] 100 False\n",
      "[0. 0. 1. 0. 0. 0. 0. 0. 0. 0. 1. 0. 0. 0. 0. 0. 0. 0. 0. 1. 0. 1.] -1 False\n",
      "[0. 0. 1. 0. 0. 0. 0. 0. 0. 0. 1. 0. 0. 0. 0. 0. 0. 0. 0. 0. 0. 1.] 100 False\n",
      "[0. 1. 0. 0. 0. 0. 0. 0. 0. 0. 1. 0. 0. 0. 0. 0. 0. 0. 0. 0. 0. 1.] -1 False\n",
      "[0. 1. 0. 0. 0. 0. 0. 0. 0. 0. 0. 1. 0. 0. 0. 0. 0. 0. 0. 0. 0. 1.] -1 False\n",
      "[0. 1. 0. 0. 0. 0. 0. 0. 0. 0. 0. 0. 1. 0. 0. 0. 0. 0. 0. 0. 0. 1.] -1 False\n",
      "[0. 1. 0. 0. 0. 0. 0. 0. 0. 0. 0. 0. 1. 0. 0. 0. 0. 0. 0. 0. 0. 0.] 100 False\n",
      "\n",
      "Grid Cleaned !!\n",
      "\n",
      "{'ep_rewards': 589, 'ep_len': 18, 'move': 7, 'clean': 6, 'turn_left': 3, 'turn_right': 2}\n",
      "Episode Rewards:\t 589 \n",
      " ----------------------------------------\n",
      "[1. 0. 0. 0. 0. 0. 0. 0. 0. 0. 0. 0. 1. 0. 0. 0. 0. 0. 0. 0. 0. 0.] 0 True\n"
     ]
    }
   ],
   "source": [
    "with torch.no_grad():\n",
    "    dq_net.eval()\n",
    "    predictions = []\n",
    "\n",
    "    x = env.reset()\n",
    "    env.rw_dirts = env.dirts\n",
    "    print(f'Dirts Present..:{env.rw_dirts}')\n",
    "        \n",
    "    x = torch.from_numpy(x.reshape(1, -1)).float().to(device)\n",
    "    step = 0\n",
    "    prev_action = []\n",
    "    \n",
    "    for __ in range(5000):\n",
    "        action = dq_net(x)\n",
    "        a_t = action.max(1)[1].view(1, 1) #take_action(action_probs, 10000, greedy=True)\n",
    "        x, reward, done, ep_info = env.step(a_t.item())#take_step(a_t, env, device)\n",
    "        print(x, reward, done)\n",
    "        x = torch.from_numpy(x.reshape(1, -1)).float().to(device)\n",
    "#         for ep_d in ep_info:\n",
    "#             if ep_d['ep_rewards'] is not None:\n",
    "#                 print(f\"reward = {round(ep_d['ep_rewards'], 2)} \\t| ep_score = {round(600/ep_d['ep_len'], 2)}\")\n",
    "        predictions.append(a_t.item())        \n",
    "        if done:\n",
    "            break"
   ]
  },
  {
   "cell_type": "code",
   "execution_count": 6,
   "metadata": {},
   "outputs": [],
   "source": [
    "import pandas as pd"
   ]
  },
  {
   "cell_type": "code",
   "execution_count": 7,
   "metadata": {
    "scrolled": false
   },
   "outputs": [
    {
     "data": {
      "text/html": [
       "<div>\n",
       "<style scoped>\n",
       "    .dataframe tbody tr th:only-of-type {\n",
       "        vertical-align: middle;\n",
       "    }\n",
       "\n",
       "    .dataframe tbody tr th {\n",
       "        vertical-align: top;\n",
       "    }\n",
       "\n",
       "    .dataframe thead th {\n",
       "        text-align: right;\n",
       "    }\n",
       "</style>\n",
       "<table border=\"1\" class=\"dataframe\">\n",
       "  <thead>\n",
       "    <tr style=\"text-align: right;\">\n",
       "      <th></th>\n",
       "      <th>index</th>\n",
       "      <th>action_meanings</th>\n",
       "    </tr>\n",
       "  </thead>\n",
       "  <tbody>\n",
       "    <tr>\n",
       "      <th>0</th>\n",
       "      <td>move</td>\n",
       "      <td>7</td>\n",
       "    </tr>\n",
       "    <tr>\n",
       "      <th>1</th>\n",
       "      <td>clean</td>\n",
       "      <td>6</td>\n",
       "    </tr>\n",
       "    <tr>\n",
       "      <th>2</th>\n",
       "      <td>turn_left</td>\n",
       "      <td>3</td>\n",
       "    </tr>\n",
       "    <tr>\n",
       "      <th>3</th>\n",
       "      <td>turn_right</td>\n",
       "      <td>2</td>\n",
       "    </tr>\n",
       "  </tbody>\n",
       "</table>\n",
       "</div>"
      ],
      "text/plain": [
       "        index  action_meanings\n",
       "0        move                7\n",
       "1       clean                6\n",
       "2   turn_left                3\n",
       "3  turn_right                2"
      ]
     },
     "execution_count": 7,
     "metadata": {},
     "output_type": "execute_result"
    }
   ],
   "source": [
    "p = pd.DataFrame.from_dict({'actions': predictions, 'action_meanings':[env.action_meanings[i] for i in predictions]})\n",
    "p['action_meanings'].value_counts().reset_index()"
   ]
  },
  {
   "cell_type": "code",
   "execution_count": null,
   "metadata": {},
   "outputs": [],
   "source": []
  }
 ],
 "metadata": {
  "kernelspec": {
   "display_name": "Python 3",
   "language": "python",
   "name": "python3"
  },
  "language_info": {
   "codemirror_mode": {
    "name": "ipython",
    "version": 3
   },
   "file_extension": ".py",
   "mimetype": "text/x-python",
   "name": "python",
   "nbconvert_exporter": "python",
   "pygments_lexer": "ipython3",
   "version": "3.7.7"
  }
 },
 "nbformat": 4,
 "nbformat_minor": 4
}
